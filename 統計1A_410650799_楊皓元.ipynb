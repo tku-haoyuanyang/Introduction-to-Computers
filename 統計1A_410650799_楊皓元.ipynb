{
  "nbformat": 4,
  "nbformat_minor": 0,
  "metadata": {
    "colab": {
      "name": "統計1A/410650799/楊皓元.ipynb",
      "provenance": [],
      "authorship_tag": "ABX9TyOoF6lsyogOpeTSB3RlQT4d",
      "include_colab_link": true
    },
    "kernelspec": {
      "name": "python3",
      "display_name": "Python 3"
    },
    "language_info": {
      "name": "python"
    }
  },
  "cells": [
    {
      "cell_type": "markdown",
      "metadata": {
        "id": "view-in-github",
        "colab_type": "text"
      },
      "source": [
        "<a href=\"https://colab.research.google.com/github/tku-haoyuanyang/Introduction-to-Computers/blob/main/%E7%B5%B1%E8%A8%881A_410650799_%E6%A5%8A%E7%9A%93%E5%85%83.ipynb\" target=\"_parent\"><img src=\"https://colab.research.google.com/assets/colab-badge.svg\" alt=\"Open In Colab\"/></a>"
      ]
    },
    {
      "cell_type": "code",
      "execution_count": 15,
      "metadata": {
        "colab": {
          "base_uri": "https://localhost:8080/"
        },
        "id": "lzt3WR7Mwmh6",
        "outputId": "aebf762c-000b-4f90-fe77-d3e177eceb09"
      },
      "outputs": [
        {
          "output_type": "stream",
          "name": "stdout",
          "text": [
            "消費者擁有的金額150\n",
            "可購買手機\n"
          ]
        }
      ],
      "source": [
        "money=int(input(\"消費者擁有的金額\"))\n",
        "if (money<100):\n",
        "    print(\"金額不足\")\n",
        "if (100<money<200):\n",
        "    print(\"可購買手機\")\n",
        "if (200<money<300):\n",
        "    print(\"可購買平板\")\n",
        "if (300<money<400):\n",
        "    print(\"可購買電腦\")"
      ]
    },
    {
      "cell_type": "code",
      "source": [
        ""
      ],
      "metadata": {
        "id": "o91YhhOPyyPH"
      },
      "execution_count": null,
      "outputs": []
    }
  ]
}