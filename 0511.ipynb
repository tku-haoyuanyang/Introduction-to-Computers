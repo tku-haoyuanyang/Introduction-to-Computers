{
  "nbformat": 4,
  "nbformat_minor": 0,
  "metadata": {
    "colab": {
      "name": "0511.ipynb",
      "provenance": [],
      "authorship_tag": "ABX9TyP0Lqf75ThekxsMoBAX2+75",
      "include_colab_link": true
    },
    "kernelspec": {
      "name": "python3",
      "display_name": "Python 3"
    },
    "language_info": {
      "name": "python"
    }
  },
  "cells": [
    {
      "cell_type": "markdown",
      "metadata": {
        "id": "view-in-github",
        "colab_type": "text"
      },
      "source": [
        "<a href=\"https://colab.research.google.com/github/tku-haoyuanyang/Introduction-to-Computers/blob/main/0511.ipynb\" target=\"_parent\"><img src=\"https://colab.research.google.com/assets/colab-badge.svg\" alt=\"Open In Colab\"/></a>"
      ]
    },
    {
      "cell_type": "code",
      "execution_count": 1,
      "metadata": {
        "colab": {
          "base_uri": "https://localhost:8080/"
        },
        "id": "xXaUjOBcDrEm",
        "outputId": "1bc6eb8f-89f3-4eba-ee61-9b3905bb2f9d"
      },
      "outputs": [
        {
          "output_type": "stream",
          "name": "stdout",
          "text": [
            "請輸入你的體溫37.5\n",
            "體溫過高!\n"
          ]
        }
      ],
      "source": [
        "temp = float(input(\"請輸入你的體溫\"))\n",
        "if temp>=37.5:\n",
        "    print(\"體溫過高!\")\n",
        "elif temp>=37.4 and temp<37.4:\n",
        "    print(\"體溫略高!\")\n",
        "elif temp>=34 and temp<36.9:\n",
        "    print(\"體溫正常!\")\n",
        "else:\n",
        "    print(\"體溫異常,請重新測量!\")"
      ]
    },
    {
      "cell_type": "code",
      "source": [
        "money = int(input(\"請輸入購物金額:\"))\n",
        "if(money>=10000):\n",
        "  if(money>=100000):\n",
        "    print(\"八折\",money*0.8,end=\"元\\n\")\n",
        "  elif(money>=50000):\n",
        "    print(\"八五折\",money*0.85,end=\"元\\n\")\n",
        "  elif(money>=30000):\n",
        "    print(\"九折\",money*0.9,end=\"元\\n\")\n",
        "  else:\n",
        "    print(\"九五折\",money*0.95,end=\"元\\n\")\n",
        "else:\n",
        "  print(\"沒打折\",money , end= \"元\\n\")"
      ],
      "metadata": {
        "colab": {
          "base_uri": "https://localhost:8080/"
        },
        "id": "3oyYGevRLL7E",
        "outputId": "166a4f11-1634-41c8-ffec-914b1b213e14"
      },
      "execution_count": 19,
      "outputs": [
        {
          "output_type": "stream",
          "name": "stdout",
          "text": [
            "請輸入購物金額:50000\n",
            "八五折 42500.0元\n"
          ]
        }
      ]
    },
    {
      "cell_type": "code",
      "source": [
        "score=int(input(\"請輸入成績:\"))\n",
        "if score>=90:\n",
        "    print(\"A\")\n",
        "elif score>=80 and score<=89:\n",
        "    print(\"B\")\n",
        "elif score>=70 and score<=79:\n",
        "    print(\"C\")\n",
        "elif score>=60 and score<=69:\n",
        "    print(\"D\")\n",
        "else:\n",
        "    print(\"E\")"
      ],
      "metadata": {
        "colab": {
          "base_uri": "https://localhost:8080/"
        },
        "id": "Bl4VM70RkQtf",
        "outputId": "241ec23d-62ba-46c8-f348-21b2556720c6"
      },
      "execution_count": 20,
      "outputs": [
        {
          "output_type": "stream",
          "name": "stdout",
          "text": [
            "請輸入成績:90\n",
            "A\n"
          ]
        }
      ]
    },
    {
      "cell_type": "code",
      "source": [
        "score=int(input(\"請輸入成績:\"))\n",
        "if score>=90:\n",
        "    print(\"A\")\n",
        "elif score>=80 and score<=89:\n",
        "    print(\"B\")\n",
        "elif score>=70 and score<=79:\n",
        "    print(\"C\")\n",
        "elif score>=60 and score<=69:\n",
        "    print(\"D\")\n",
        "else:\n",
        "    print(\"E\")"
      ],
      "metadata": {
        "colab": {
          "base_uri": "https://localhost:8080/"
        },
        "id": "j83z5m5GsBDp",
        "outputId": "a7fdbb73-8f8c-4e21-e001-f6c4ad5a0bba"
      },
      "execution_count": 21,
      "outputs": [
        {
          "output_type": "stream",
          "name": "stdout",
          "text": [
            "請輸入成績:80\n",
            "B\n"
          ]
        }
      ]
    },
    {
      "cell_type": "code",
      "source": [
        "score=int(input(\"請輸入成績:\"))\n",
        "if score>=90:\n",
        "    print(\"A\")\n",
        "elif score>=80 and score<=89:\n",
        "    print(\"B\")\n",
        "elif score>=70 and score<=79:\n",
        "    print(\"C\")\n",
        "elif score>=60 and score<=69:\n",
        "    print(\"D\")\n",
        "else:\n",
        "    print(\"E\")"
      ],
      "metadata": {
        "colab": {
          "base_uri": "https://localhost:8080/"
        },
        "id": "abynQ03PsHxA",
        "outputId": "664688ae-1a8c-445f-c9f4-b9eddaac8e6a"
      },
      "execution_count": 22,
      "outputs": [
        {
          "output_type": "stream",
          "name": "stdout",
          "text": [
            "請輸入成績:50\n",
            "E\n"
          ]
        }
      ]
    },
    {
      "cell_type": "code",
      "source": [
        "month=int(input(\"請輸入月份:\"))\n",
        "if (month==3) or (month==4) or (month==5):\n",
        "    print(month,\"月是春天!\")\n",
        "elif (month==6) or (month==7) or (month==8):\n",
        "    print(month,\"月是夏天!\")\n",
        "elif (month==9) or (month==10) or (month==11):\n",
        "    print(month,\"月是秋天!\")\n",
        "elif (month==12) or (month==1) or (month==2):\n",
        "    print(month,\"月是冬天!\")\n",
        "else:\n",
        "    print(\"月份不再範圍內!\")"
      ],
      "metadata": {
        "colab": {
          "base_uri": "https://localhost:8080/"
        },
        "id": "obKKq2cWsJJh",
        "outputId": "2ffa9fee-cbae-4155-86fa-ba8351933f55"
      },
      "execution_count": 38,
      "outputs": [
        {
          "output_type": "stream",
          "name": "stdout",
          "text": [
            "請輸入月份:7\n",
            "7 月是夏天!\n"
          ]
        }
      ]
    },
    {
      "cell_type": "code",
      "source": [
        "income=int(input(\"請輸入今年收入淨額:\"))\n",
        "if income>=2000000:\n",
        "    print(\"付稅金額:\",income*0.3,\"元\")\n",
        "elif income>=1000000 and income<2000000:\n",
        "    print(\"付稅金額:\",income*0.21,\"元\")\n",
        "elif income>=600000 and income<1000000:\n",
        "    print(\"付稅金額:\",income*0.13,\"元\")\n",
        "elif income>=300000 and income<600000:\n",
        "    print(\"付稅金額:\",income*0.06,\"元\")\n",
        "else:\n",
        "    print(\"付稅金額:\",income*0,\"元\")"
      ],
      "metadata": {
        "colab": {
          "base_uri": "https://localhost:8080/"
        },
        "id": "IMXtDOm1u8XY",
        "outputId": "086f3f52-7924-4d89-f028-c241e98b3673"
      },
      "execution_count": 46,
      "outputs": [
        {
          "output_type": "stream",
          "name": "stdout",
          "text": [
            "請輸入今年收入淨額:100000\n",
            "付稅金額: 0 元\n"
          ]
        }
      ]
    },
    {
      "cell_type": "code",
      "source": [
        "income=int(input(\"請輸入今年收入淨額:\"))\n",
        "if income>=2000000:\n",
        "    print(\"付稅金額:\",income*0.3,\"元\")\n",
        "elif income>=1000000 and income<2000000:\n",
        "    print(\"付稅金額:\",income*0.21,\"元\")\n",
        "elif income>=600000 and income<1000000:\n",
        "    print(\"付稅金額:\",income*0.13,\"元\")\n",
        "elif income>=300000 and income<600000:\n",
        "    print(\"付稅金額:\",income*0.06,\"元\")\n",
        "else:\n",
        "    print(\"付稅金額:\",income*0,\"元\")"
      ],
      "metadata": {
        "colab": {
          "base_uri": "https://localhost:8080/"
        },
        "id": "e3ehDiTQ_1Pe",
        "outputId": "ab50375f-7535-4acc-a3f2-2e4ccc5f5fc6"
      },
      "execution_count": 47,
      "outputs": [
        {
          "output_type": "stream",
          "name": "stdout",
          "text": [
            "請輸入今年收入淨額:2000000\n",
            "付稅金額: 600000.0 元\n"
          ]
        }
      ]
    },
    {
      "cell_type": "code",
      "source": [
        ""
      ],
      "metadata": {
        "id": "6q3LxAe78ZGW"
      },
      "execution_count": null,
      "outputs": []
    }
  ]
}