{
  "nbformat": 4,
  "nbformat_minor": 0,
  "metadata": {
    "colab": {
      "name": "統計1A410650799楊皓元.ipynb",
      "provenance": [],
      "authorship_tag": "ABX9TyOWtsJPCN3m9yYFdN/cH26V",
      "include_colab_link": true
    },
    "kernelspec": {
      "name": "python3",
      "display_name": "Python 3"
    },
    "language_info": {
      "name": "python"
    }
  },
  "cells": [
    {
      "cell_type": "markdown",
      "metadata": {
        "id": "view-in-github",
        "colab_type": "text"
      },
      "source": [
        "<a href=\"https://colab.research.google.com/github/tku-haoyuanyang/Introduction-to-Computers/blob/main/%E7%B5%B1%E8%A8%881A410650799%E6%A5%8A%E7%9A%93%E5%85%83.ipynb\" target=\"_parent\"><img src=\"https://colab.research.google.com/assets/colab-badge.svg\" alt=\"Open In Colab\"/></a>"
      ]
    },
    {
      "cell_type": "code",
      "execution_count": null,
      "metadata": {
        "colab": {
          "base_uri": "https://localhost:8080/"
        },
        "id": "7h7QewUJNcqz",
        "outputId": "9cc224cb-1de2-47c7-fc85-b96b72258d6c"
      },
      "outputs": [
        {
          "output_type": "stream",
          "name": "stdout",
          "text": [
            "105\n"
          ]
        }
      ],
      "source": [
        "a=100\n",
        "a+=5 #+加號\n",
        "print(a)"
      ]
    },
    {
      "cell_type": "code",
      "source": [
        "a=100\n",
        "a**=5 #+次方\n",
        "print(a)"
      ],
      "metadata": {
        "colab": {
          "base_uri": "https://localhost:8080/"
        },
        "id": "cqjhU5AfPEQi",
        "outputId": "a6eddc88-36f3-4a17-dccd-a8b978a7a29a"
      },
      "execution_count": null,
      "outputs": [
        {
          "output_type": "stream",
          "name": "stdout",
          "text": [
            "10000000000\n"
          ]
        }
      ]
    },
    {
      "cell_type": "code",
      "source": [
        "a=100\n",
        "a//=5 #//商\n",
        "print(a)"
      ],
      "metadata": {
        "colab": {
          "base_uri": "https://localhost:8080/"
        },
        "id": "rdfAF-CmPN0A",
        "outputId": "1116d4b5-3f8e-40e4-b720-b1d15783d3cd"
      },
      "execution_count": null,
      "outputs": [
        {
          "output_type": "stream",
          "name": "stdout",
          "text": [
            "20\n"
          ]
        }
      ]
    },
    {
      "cell_type": "code",
      "source": [
        "1>2 #檢查a是否大於b"
      ],
      "metadata": {
        "colab": {
          "base_uri": "https://localhost:8080/"
        },
        "id": "JzWG6RvOQaY8",
        "outputId": "fc32d900-981f-40fb-b915-6054d143dfb2"
      },
      "execution_count": null,
      "outputs": [
        {
          "output_type": "execute_result",
          "data": {
            "text/plain": [
              "False"
            ]
          },
          "metadata": {},
          "execution_count": 22
        }
      ]
    },
    {
      "cell_type": "code",
      "source": [
        "1!=2 #檢查a是否不等於b"
      ],
      "metadata": {
        "colab": {
          "base_uri": "https://localhost:8080/"
        },
        "id": "oECXwS4sQw2J",
        "outputId": "66805ca5-d713-4d59-c6cd-b45ed65925d8"
      },
      "execution_count": null,
      "outputs": [
        {
          "output_type": "execute_result",
          "data": {
            "text/plain": [
              "True"
            ]
          },
          "metadata": {},
          "execution_count": 23
        }
      ]
    },
    {
      "cell_type": "code",
      "source": [
        "1<=2 #檢查a是否小於等於b"
      ],
      "metadata": {
        "colab": {
          "base_uri": "https://localhost:8080/"
        },
        "id": "YkSQqRSCRgxE",
        "outputId": "dde4261e-63ee-478d-d0bf-8a056d13add0"
      },
      "execution_count": null,
      "outputs": [
        {
          "output_type": "execute_result",
          "data": {
            "text/plain": [
              "True"
            ]
          },
          "metadata": {},
          "execution_count": 24
        }
      ]
    },
    {
      "cell_type": "code",
      "source": [
        "(20>10)and(10<20) #and交集"
      ],
      "metadata": {
        "colab": {
          "base_uri": "https://localhost:8080/"
        },
        "id": "YFPxSH-PRi2g",
        "outputId": "191a08cd-b631-4524-cf1b-1ec4ff7add7d"
      },
      "execution_count": null,
      "outputs": [
        {
          "output_type": "execute_result",
          "data": {
            "text/plain": [
              "True"
            ]
          },
          "metadata": {},
          "execution_count": 25
        }
      ]
    },
    {
      "cell_type": "code",
      "source": [
        "(20!=10)or(10>=20) #or聯集"
      ],
      "metadata": {
        "colab": {
          "base_uri": "https://localhost:8080/"
        },
        "id": "gc6ArbIIRwbZ",
        "outputId": "4255cb0a-0fd4-4549-8b19-d28ba26f29dd"
      },
      "execution_count": null,
      "outputs": [
        {
          "output_type": "execute_result",
          "data": {
            "text/plain": [
              "True"
            ]
          },
          "metadata": {},
          "execution_count": 26
        }
      ]
    },
    {
      "cell_type": "code",
      "source": [
        "not(20==10) #True經過not運算回傳False，False經過not運算則回傳True"
      ],
      "metadata": {
        "colab": {
          "base_uri": "https://localhost:8080/"
        },
        "id": "kBom_2VoR91o",
        "outputId": "4a755e78-8550-4d06-e651-d5127732fb76"
      },
      "execution_count": null,
      "outputs": [
        {
          "output_type": "execute_result",
          "data": {
            "text/plain": [
              "True"
            ]
          },
          "metadata": {},
          "execution_count": 27
        }
      ]
    },
    {
      "cell_type": "code",
      "source": [
        ""
      ],
      "metadata": {
        "id": "ZXudv6W_SI9w"
      },
      "execution_count": null,
      "outputs": []
    }
  ]
}